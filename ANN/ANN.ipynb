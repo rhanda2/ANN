{
 "cells": [
  {
   "cell_type": "code",
   "execution_count": 1,
   "id": "b91c582f",
   "metadata": {},
   "outputs": [],
   "source": [
    "import numpy as np\n",
    "from sklearn.datasets import load_digits"
   ]
  },
  {
   "cell_type": "code",
   "execution_count": 2,
   "id": "743c2318",
   "metadata": {},
   "outputs": [],
   "source": [
    "dataset = load_digits()"
   ]
  },
  {
   "cell_type": "code",
   "execution_count": 3,
   "id": "629dee64",
   "metadata": {},
   "outputs": [],
   "source": [
    "X, y = dataset.data, dataset.target"
   ]
  },
  {
   "cell_type": "code",
   "execution_count": 4,
   "id": "bf8a0c7a",
   "metadata": {},
   "outputs": [
    {
     "name": "stdout",
     "output_type": "stream",
     "text": [
      "(1797, 64) (1797,)\n"
     ]
    }
   ],
   "source": [
    "print(X.shape, y.shape)"
   ]
  },
  {
   "cell_type": "code",
   "execution_count": 5,
   "id": "1312a65f",
   "metadata": {},
   "outputs": [
    {
     "name": "stdout",
     "output_type": "stream",
     "text": [
      "(1797, 10)\n"
     ]
    }
   ],
   "source": [
    "y_gt = np.zeros((y.shape[0], np.amax(y)+1))\n",
    "\n",
    "for i in range(y.shape[0]):\n",
    "    y_gt[i, y[i]] = 1\n",
    "\n",
    "print(y_gt.shape)"
   ]
  },
  {
   "cell_type": "code",
   "execution_count": 6,
   "id": "aff6559e",
   "metadata": {},
   "outputs": [
    {
     "name": "stdout",
     "output_type": "stream",
     "text": [
      "0 [1. 0. 0. 0. 0. 0. 0. 0. 0. 0.]\n"
     ]
    }
   ],
   "source": [
    "# print(X[0])\n",
    "print(y[0], y_gt[0])"
   ]
  },
  {
   "cell_type": "code",
   "execution_count": 13,
   "id": "b0841267",
   "metadata": {},
   "outputs": [],
   "source": [
    "def normalize_data(data): \n",
    "\n",
    "\t# normalize/standardize the data\n",
    "\t\"\"\" Normalize the dataset X \"\"\"\n",
    "\tl2 = np.atleast_1d(np.linalg.norm(data, ord=2, axis=1))\n",
    "\tl2[l2 == 0] = 1\n",
    "\treturn data / np.expand_dims(l2, axis=1)\n",
    "\n",
    "X_norm = normalize_data(X)"
   ]
  },
  {
   "cell_type": "code",
   "execution_count": 14,
   "id": "54a4f35a",
   "metadata": {},
   "outputs": [],
   "source": [
    "ratio = 0.6\n",
    "num_train_samples = int(y.shape[0] * ratio)\n",
    "X_train, y_train = X_norm[:num_train_samples], y_gt[:num_train_samples]\n",
    "X_test, y_test = X_norm[num_train_samples:], y_gt[num_train_samples:]"
   ]
  },
  {
   "cell_type": "code",
   "execution_count": 15,
   "id": "edf1ac10",
   "metadata": {},
   "outputs": [
    {
     "name": "stdout",
     "output_type": "stream",
     "text": [
      "(1078, 10) (719, 10)\n"
     ]
    }
   ],
   "source": [
    "print(y_train.shape, y_test.shape)"
   ]
  },
  {
   "cell_type": "code",
   "execution_count": 17,
   "id": "71503664",
   "metadata": {},
   "outputs": [
    {
     "ename": "TypeError",
     "evalue": "__call__() missing 1 required positional argument: 'z'",
     "output_type": "error",
     "traceback": [
      "\u001b[0;31m---------------------------------------------------------------------------\u001b[0m",
      "\u001b[0;31mTypeError\u001b[0m                                 Traceback (most recent call last)",
      "Cell \u001b[0;32mIn [17], line 55\u001b[0m\n\u001b[1;32m     51\u001b[0m \u001b[38;5;28;01mfor\u001b[39;00m i \u001b[38;5;129;01min\u001b[39;00m \u001b[38;5;28mrange\u001b[39m(\u001b[38;5;241m1000\u001b[39m):\n\u001b[1;32m     52\u001b[0m \n\u001b[1;32m     53\u001b[0m     \u001b[38;5;66;03m# Forward\u001b[39;00m\n\u001b[1;32m     54\u001b[0m     z1 \u001b[38;5;241m=\u001b[39m X_train\u001b[38;5;241m.\u001b[39mdot(w1) \u001b[38;5;241m+\u001b[39m b1\n\u001b[0;32m---> 55\u001b[0m     a1 \u001b[38;5;241m=\u001b[39m sigmoid()\n\u001b[1;32m     56\u001b[0m \u001b[38;5;66;03m#     print(a1.shape)\u001b[39;00m\n\u001b[1;32m     58\u001b[0m     z2 \u001b[38;5;241m=\u001b[39m a1\u001b[38;5;241m.\u001b[39mdot(w2) \u001b[38;5;241m+\u001b[39m b2\n",
      "\u001b[0;31mTypeError\u001b[0m: __call__() missing 1 required positional argument: 'z'"
     ]
    }
   ],
   "source": [
    "# def sigmoid(x):\n",
    "#     y = 1/(1 + np.exp(-1*x))\n",
    "#     return y\n",
    "\n",
    "# def softmax(x):\n",
    "\n",
    "def accuracy_score(y_pred, y_gt):\n",
    "    y_pred = np.argmax(y_pred, axis=1)\n",
    "    y_gt = np.argmax(y_gt, axis=1)\n",
    "    accuracy = np.sum(y_pred == y_gt)/y_gt.shape[0]\n",
    "    return accuracy\n",
    "\n",
    "class CrossEntropyLoss:     # TODO: Make this work!!!\n",
    "    def __init__(self):\n",
    "        # Buffers to store intermediate results.\n",
    "        self.current_prediction = None\n",
    "        self.current_gt = None\n",
    "        pass\n",
    "\n",
    "    def __call__(self, y_pred, y_gt):\n",
    "        # TODO: Calculate Loss Function\n",
    "        y_pred = np.clip(y_pred, 1e-15, 1 - 1e-15)\n",
    "        loss = - y_gt * np.log(y_pred) - (1 - y_gt) * np.log(1 - y_pred)\n",
    "        return loss\n",
    "\n",
    "    def grad(self, y_pred, y_gt):\n",
    "        # TODO: Calculate Gradients for back propagation\n",
    "        y_pred = np.clip(y_pred, 1e-15, 1 - 1e-15)\n",
    "        gradient = - (y_gt / y_pred) + (1 - y_gt) / (1 - y_pred)\n",
    "        return gradient\n",
    "    \n",
    "import matplotlib.pyplot as plt \n",
    "from utils import SigmoidActivation, SoftmaxActivation\n",
    "learning_rate = 0.001\n",
    "    \n",
    "\n",
    "sigmoid = SigmoidActivation()\n",
    "softmax = SoftmaxActivation()\n",
    "loss_function = CrossEntropyLoss()\n",
    "\n",
    "\n",
    "# Initialize Params\n",
    "w1 = np.random.uniform(0,1, (64, 16))\n",
    "b1 = np.zeros((1, 16))\n",
    "\n",
    "w2 = np.random.uniform(0, 1, (16, 10))\n",
    "b2 = np.zeros((1, 10))\n",
    "\n",
    "losses = []\n",
    "accuracies = []\n",
    "for i in range(1000):\n",
    "\n",
    "    # Forward\n",
    "    z1 = X_train.dot(w1) + b1\n",
    "    a1 = sigmoid(z1)\n",
    "#     print(a1.shape)\n",
    "\n",
    "    z2 = a1.dot(w2) + b2\n",
    "    a2 = softmax(z2)\n",
    "#     print(a2.shape)\n",
    "\n",
    "    loss = np.sum(loss_function(a2, y_train))\n",
    "    accuracy = accuracy_score(a2, y_train)\n",
    "    accuracies.append(accuracy)\n",
    "    losses.append(loss)\n",
    "\n",
    "    # Backward\n",
    "    da2 = loss_function.grad(a2, y_train)\n",
    "\n",
    "\n",
    "    dz2 = da2 * softmax.grad()\n",
    "    dw2 = a1.T.dot(dz2)\n",
    "    db2 = np.sum(dz2, axis=0)\n",
    "\n",
    "    da1 = dz2.dot(w2.T)\n",
    "    dz1 = sigmoid.grad() * da1\n",
    "    dw1 = X_train.T.dot(dz1)\n",
    "    db1 = np.sum(dz1, axis=0)\n",
    "\n",
    "\n",
    "    # Update weights (by gradient descent)\n",
    "    # Move against the gradient to minimize loss\n",
    "    w2  -= learning_rate * dw2\n",
    "    b2 -= learning_rate * db2\n",
    "    w1  -= learning_rate * dw1\n",
    "    b1 -= learning_rate * db1\n",
    "    \n",
    "# plt.plot(losses)\n",
    "plt.plot(accuracies)\n",
    "# print(accuracies)"
   ]
  },
  {
   "cell_type": "code",
   "execution_count": 12,
   "id": "54976a1e",
   "metadata": {},
   "outputs": [
    {
     "name": "stdout",
     "output_type": "stream",
     "text": [
      "0.09925788497217068\n"
     ]
    }
   ],
   "source": [
    "print(accuracies[-1])"
   ]
  },
  {
   "cell_type": "code",
   "execution_count": null,
   "id": "0c2805e6",
   "metadata": {},
   "outputs": [],
   "source": []
  }
 ],
 "metadata": {
  "kernelspec": {
   "display_name": "Python 3 (ipykernel)",
   "language": "python",
   "name": "python3"
  },
  "language_info": {
   "codemirror_mode": {
    "name": "ipython",
    "version": 3
   },
   "file_extension": ".py",
   "mimetype": "text/x-python",
   "name": "python",
   "nbconvert_exporter": "python",
   "pygments_lexer": "ipython3",
   "version": "3.8.10"
  }
 },
 "nbformat": 4,
 "nbformat_minor": 5
}
